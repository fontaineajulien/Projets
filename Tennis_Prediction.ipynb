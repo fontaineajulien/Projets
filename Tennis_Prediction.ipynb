{
 "cells": [
  {
   "cell_type": "code",
   "execution_count": 1,
   "metadata": {},
   "outputs": [],
   "source": [
    "import pandas as pd\n",
    "from urllib.request import urlopen  \n",
    "import os.path as osp\n",
    "import os\n",
    "import logging\n",
    "import zipfile\n",
    "from glob import glob\n",
    "logging.getLogger().setLevel('INFO')"
   ]
  },
  {
   "cell_type": "markdown",
   "metadata": {},
   "source": [
    "## Helpers"
   ]
  },
  {
   "cell_type": "code",
   "execution_count": 2,
   "metadata": {},
   "outputs": [],
   "source": [
    "def download_file(url_str, path):\n",
    "    url = urlopen(url_str)\n",
    "    output = open(path, 'wb')       \n",
    "    output.write(url.read())\n",
    "    output.close()  \n",
    "    \n",
    "def extract_file(archive_path, target_dir):\n",
    "    zip_file = zipfile.ZipFile(archive_path, 'r')\n",
    "    zip_file.extractall(target_dir)\n",
    "    zip_file.close()"
   ]
  },
  {
   "cell_type": "markdown",
   "metadata": {},
   "source": [
    "## Download the dataset"
   ]
  },
  {
   "cell_type": "code",
   "execution_count": 3,
   "metadata": {},
   "outputs": [
    {
     "name": "stderr",
     "output_type": "stream",
     "text": [
      "INFO:root:downloading & extracting file http://tennis-data.co.uk/2000/2000.zip\n",
      "INFO:root:downloading & extracting file http://tennis-data.co.uk/2001/2001.zip\n",
      "INFO:root:downloading & extracting file http://tennis-data.co.uk/2002/2002.zip\n",
      "INFO:root:downloading & extracting file http://tennis-data.co.uk/2003/2003.zip\n",
      "INFO:root:downloading & extracting file http://tennis-data.co.uk/2004/2004.zip\n",
      "INFO:root:downloading & extracting file http://tennis-data.co.uk/2005/2005.zip\n",
      "INFO:root:downloading & extracting file http://tennis-data.co.uk/2006/2006.zip\n",
      "INFO:root:downloading & extracting file http://tennis-data.co.uk/2007/2007.zip\n",
      "INFO:root:downloading & extracting file http://tennis-data.co.uk/2008/2008.zip\n",
      "INFO:root:downloading & extracting file http://tennis-data.co.uk/2009/2009.zip\n",
      "INFO:root:downloading & extracting file http://tennis-data.co.uk/2010/2010.zip\n",
      "INFO:root:downloading & extracting file http://tennis-data.co.uk/2011/2011.zip\n",
      "INFO:root:downloading & extracting file http://tennis-data.co.uk/2012/2012.zip\n",
      "INFO:root:downloading & extracting file http://tennis-data.co.uk/2013/2013.zip\n",
      "INFO:root:downloading & extracting file http://tennis-data.co.uk/2014/2014.zip\n",
      "INFO:root:downloading & extracting file http://tennis-data.co.uk/2015/2015.zip\n",
      "INFO:root:downloading & extracting file http://tennis-data.co.uk/2016/2016.zip\n",
      "INFO:root:downloading & extracting file http://tennis-data.co.uk/2017/2017.zip\n",
      "INFO:root:downloading & extracting file http://tennis-data.co.uk/2018/2018.zip\n",
      "INFO:root:downloading & extracting file http://tennis-data.co.uk/2007w/2007.zip\n",
      "INFO:root:downloading & extracting file http://tennis-data.co.uk/2008w/2008.zip\n",
      "INFO:root:downloading & extracting file http://tennis-data.co.uk/2009w/2009.zip\n",
      "INFO:root:downloading & extracting file http://tennis-data.co.uk/2010w/2010.zip\n",
      "INFO:root:downloading & extracting file http://tennis-data.co.uk/2011w/2011.zip\n",
      "INFO:root:downloading & extracting file http://tennis-data.co.uk/2012w/2012.zip\n",
      "INFO:root:downloading & extracting file http://tennis-data.co.uk/2013w/2013.zip\n",
      "INFO:root:downloading & extracting file http://tennis-data.co.uk/2014w/2014.zip\n",
      "INFO:root:downloading & extracting file http://tennis-data.co.uk/2015w/2015.zip\n",
      "INFO:root:downloading & extracting file http://tennis-data.co.uk/2016w/2016.zip\n",
      "INFO:root:downloading & extracting file http://tennis-data.co.uk/2017w/2017.zip\n",
      "INFO:root:downloading & extracting file http://tennis-data.co.uk/2018w/2018.zip\n",
      "C:\\Users\\fonta\\Anaconda3\\lib\\site-packages\\ipykernel_launcher.py:22: FutureWarning: Sorting because non-concatenation axis is not aligned. A future version\n",
      "of pandas will change to not sort by default.\n",
      "\n",
      "To accept the future behavior, pass 'sort=True'.\n",
      "\n",
      "To retain the current behavior and silence the warning, pass sort=False\n",
      "\n",
      "C:\\Users\\fonta\\Anaconda3\\lib\\site-packages\\ipykernel_launcher.py:23: FutureWarning: Sorting because non-concatenation axis is not aligned. A future version\n",
      "of pandas will change to not sort by default.\n",
      "\n",
      "To accept the future behavior, pass 'sort=True'.\n",
      "\n",
      "To retain the current behavior and silence the warning, pass sort=False\n",
      "\n",
      "INFO:root:52298 matches ATP in df_atp\n",
      "INFO:root:29581 matches WTA in df_wta\n"
     ]
    }
   ],
   "source": [
    "BASE_URL = 'http://tennis-data.co.uk'\n",
    "DATA_DIR = \"tennis_data\"\n",
    "ATP_DIR = './{}/ATP'.format(DATA_DIR)\n",
    "WTA_DIR = './{}/WTA'.format(DATA_DIR)\n",
    "\n",
    "ATP_URLS = [BASE_URL + \"/%i/%i.zip\" % (i,i) for i in range(2000,2019)]\n",
    "WTA_URLS = [BASE_URL + \"/%iw/%i.zip\" % (i,i) for i in range(2007,2019)]\n",
    "\n",
    "os.makedirs(osp.join(ATP_DIR, 'archives'), exist_ok=True)\n",
    "os.makedirs(osp.join(WTA_DIR, 'archives'), exist_ok=True)\n",
    "\n",
    "for files, directory in ((ATP_URLS, ATP_DIR), (WTA_URLS, WTA_DIR)):\n",
    "    for dl_path in files:\n",
    "        logging.info(\"downloading & extracting file %s\", dl_path)\n",
    "        archive_path = osp.join(directory, 'archives', osp.basename(dl_path))\n",
    "        download_file(dl_path, archive_path)\n",
    "        extract_file(archive_path, directory)\n",
    "    \n",
    "ATP_FILES = sorted(glob(\"%s/*.xls*\" % ATP_DIR))\n",
    "WTA_FILES = sorted(glob(\"%s/*.xls*\" % WTA_DIR))\n",
    "\n",
    "df_atp = pd.concat([pd.read_excel(f) for f in ATP_FILES], ignore_index=True)\n",
    "df_wta = pd.concat([pd.read_excel(f) for f in WTA_FILES], ignore_index=True)\n",
    "\n",
    "logging.info(\"%i matches ATP in df_atp\", df_atp.shape[0])\n",
    "logging.info(\"%i matches WTA in df_wta\", df_wta.shape[0])"
   ]
  },
  {
   "cell_type": "markdown",
   "metadata": {},
   "source": [
    "## Your work"
   ]
  },
  {
   "cell_type": "markdown",
   "metadata": {},
   "source": [
    "## Analyse descriptive sur df_atp"
   ]
  },
  {
   "cell_type": "code",
   "execution_count": 8,
   "metadata": {},
   "outputs": [
    {
     "data": {
      "text/plain": [
       "(52298, 54)"
      ]
     },
     "execution_count": 8,
     "metadata": {},
     "output_type": "execute_result"
    }
   ],
   "source": [
    "df_atp.shape"
   ]
  },
  {
   "cell_type": "code",
   "execution_count": 6,
   "metadata": {},
   "outputs": [
    {
     "data": {
      "text/html": [
       "<div>\n",
       "<style scoped>\n",
       "    .dataframe tbody tr th:only-of-type {\n",
       "        vertical-align: middle;\n",
       "    }\n",
       "\n",
       "    .dataframe tbody tr th {\n",
       "        vertical-align: top;\n",
       "    }\n",
       "\n",
       "    .dataframe thead th {\n",
       "        text-align: right;\n",
       "    }\n",
       "</style>\n",
       "<table border=\"1\" class=\"dataframe\">\n",
       "  <thead>\n",
       "    <tr style=\"text-align: right;\">\n",
       "      <th></th>\n",
       "      <th>ATP</th>\n",
       "      <th>AvgL</th>\n",
       "      <th>AvgW</th>\n",
       "      <th>B&amp;WL</th>\n",
       "      <th>B&amp;WW</th>\n",
       "      <th>B365L</th>\n",
       "      <th>B365W</th>\n",
       "      <th>Best of</th>\n",
       "      <th>CBL</th>\n",
       "      <th>CBW</th>\n",
       "      <th>...</th>\n",
       "      <th>UBW</th>\n",
       "      <th>W1</th>\n",
       "      <th>W2</th>\n",
       "      <th>W3</th>\n",
       "      <th>W4</th>\n",
       "      <th>W5</th>\n",
       "      <th>WPts</th>\n",
       "      <th>WRank</th>\n",
       "      <th>Winner</th>\n",
       "      <th>Wsets</th>\n",
       "    </tr>\n",
       "  </thead>\n",
       "  <tbody>\n",
       "    <tr>\n",
       "      <th>0</th>\n",
       "      <td>1</td>\n",
       "      <td>NaN</td>\n",
       "      <td>NaN</td>\n",
       "      <td>NaN</td>\n",
       "      <td>NaN</td>\n",
       "      <td>NaN</td>\n",
       "      <td>NaN</td>\n",
       "      <td>3</td>\n",
       "      <td>NaN</td>\n",
       "      <td>NaN</td>\n",
       "      <td>...</td>\n",
       "      <td>NaN</td>\n",
       "      <td>6.0</td>\n",
       "      <td>6</td>\n",
       "      <td>NaN</td>\n",
       "      <td>NaN</td>\n",
       "      <td>NaN</td>\n",
       "      <td>NaN</td>\n",
       "      <td>63</td>\n",
       "      <td>Dosedel S.</td>\n",
       "      <td>2.0</td>\n",
       "    </tr>\n",
       "    <tr>\n",
       "      <th>1</th>\n",
       "      <td>1</td>\n",
       "      <td>NaN</td>\n",
       "      <td>NaN</td>\n",
       "      <td>NaN</td>\n",
       "      <td>NaN</td>\n",
       "      <td>NaN</td>\n",
       "      <td>NaN</td>\n",
       "      <td>3</td>\n",
       "      <td>NaN</td>\n",
       "      <td>NaN</td>\n",
       "      <td>...</td>\n",
       "      <td>NaN</td>\n",
       "      <td>6.0</td>\n",
       "      <td>6</td>\n",
       "      <td>NaN</td>\n",
       "      <td>NaN</td>\n",
       "      <td>NaN</td>\n",
       "      <td>NaN</td>\n",
       "      <td>5</td>\n",
       "      <td>Enqvist T.</td>\n",
       "      <td>2.0</td>\n",
       "    </tr>\n",
       "    <tr>\n",
       "      <th>2</th>\n",
       "      <td>1</td>\n",
       "      <td>NaN</td>\n",
       "      <td>NaN</td>\n",
       "      <td>NaN</td>\n",
       "      <td>NaN</td>\n",
       "      <td>NaN</td>\n",
       "      <td>NaN</td>\n",
       "      <td>3</td>\n",
       "      <td>NaN</td>\n",
       "      <td>NaN</td>\n",
       "      <td>...</td>\n",
       "      <td>NaN</td>\n",
       "      <td>6.0</td>\n",
       "      <td>7</td>\n",
       "      <td>6</td>\n",
       "      <td>NaN</td>\n",
       "      <td>NaN</td>\n",
       "      <td>NaN</td>\n",
       "      <td>40</td>\n",
       "      <td>Escude N.</td>\n",
       "      <td>2.0</td>\n",
       "    </tr>\n",
       "    <tr>\n",
       "      <th>3</th>\n",
       "      <td>1</td>\n",
       "      <td>NaN</td>\n",
       "      <td>NaN</td>\n",
       "      <td>NaN</td>\n",
       "      <td>NaN</td>\n",
       "      <td>NaN</td>\n",
       "      <td>NaN</td>\n",
       "      <td>3</td>\n",
       "      <td>NaN</td>\n",
       "      <td>NaN</td>\n",
       "      <td>...</td>\n",
       "      <td>NaN</td>\n",
       "      <td>6.0</td>\n",
       "      <td>6</td>\n",
       "      <td>NaN</td>\n",
       "      <td>NaN</td>\n",
       "      <td>NaN</td>\n",
       "      <td>NaN</td>\n",
       "      <td>65</td>\n",
       "      <td>Federer R.</td>\n",
       "      <td>2.0</td>\n",
       "    </tr>\n",
       "    <tr>\n",
       "      <th>4</th>\n",
       "      <td>1</td>\n",
       "      <td>NaN</td>\n",
       "      <td>NaN</td>\n",
       "      <td>NaN</td>\n",
       "      <td>NaN</td>\n",
       "      <td>NaN</td>\n",
       "      <td>NaN</td>\n",
       "      <td>3</td>\n",
       "      <td>NaN</td>\n",
       "      <td>NaN</td>\n",
       "      <td>...</td>\n",
       "      <td>NaN</td>\n",
       "      <td>7.0</td>\n",
       "      <td>5</td>\n",
       "      <td>6</td>\n",
       "      <td>NaN</td>\n",
       "      <td>NaN</td>\n",
       "      <td>NaN</td>\n",
       "      <td>81</td>\n",
       "      <td>Fromberg R.</td>\n",
       "      <td>2.0</td>\n",
       "    </tr>\n",
       "  </tbody>\n",
       "</table>\n",
       "<p>5 rows × 54 columns</p>\n",
       "</div>"
      ],
      "text/plain": [
       "   ATP  AvgL  AvgW  B&WL  B&WW  B365L  B365W  Best of  CBL  CBW  ...   UBW  \\\n",
       "0    1   NaN   NaN   NaN   NaN    NaN    NaN        3  NaN  NaN  ...   NaN   \n",
       "1    1   NaN   NaN   NaN   NaN    NaN    NaN        3  NaN  NaN  ...   NaN   \n",
       "2    1   NaN   NaN   NaN   NaN    NaN    NaN        3  NaN  NaN  ...   NaN   \n",
       "3    1   NaN   NaN   NaN   NaN    NaN    NaN        3  NaN  NaN  ...   NaN   \n",
       "4    1   NaN   NaN   NaN   NaN    NaN    NaN        3  NaN  NaN  ...   NaN   \n",
       "\n",
       "    W1 W2   W3  W4  W5  WPts  WRank       Winner  Wsets  \n",
       "0  6.0  6  NaN NaN NaN   NaN     63   Dosedel S.    2.0  \n",
       "1  6.0  6  NaN NaN NaN   NaN      5   Enqvist T.    2.0  \n",
       "2  6.0  7    6 NaN NaN   NaN     40    Escude N.    2.0  \n",
       "3  6.0  6  NaN NaN NaN   NaN     65   Federer R.    2.0  \n",
       "4  7.0  5    6 NaN NaN   NaN     81  Fromberg R.    2.0  \n",
       "\n",
       "[5 rows x 54 columns]"
      ]
     },
     "execution_count": 6,
     "metadata": {},
     "output_type": "execute_result"
    }
   ],
   "source": [
    "df_atp.head()"
   ]
  },
  {
   "cell_type": "code",
   "execution_count": 7,
   "metadata": {},
   "outputs": [
    {
     "data": {
      "text/html": [
       "<div>\n",
       "<style scoped>\n",
       "    .dataframe tbody tr th:only-of-type {\n",
       "        vertical-align: middle;\n",
       "    }\n",
       "\n",
       "    .dataframe tbody tr th {\n",
       "        vertical-align: top;\n",
       "    }\n",
       "\n",
       "    .dataframe thead th {\n",
       "        text-align: right;\n",
       "    }\n",
       "</style>\n",
       "<table border=\"1\" class=\"dataframe\">\n",
       "  <thead>\n",
       "    <tr style=\"text-align: right;\">\n",
       "      <th></th>\n",
       "      <th>ATP</th>\n",
       "      <th>AvgL</th>\n",
       "      <th>AvgW</th>\n",
       "      <th>B&amp;WL</th>\n",
       "      <th>B&amp;WW</th>\n",
       "      <th>B365L</th>\n",
       "      <th>B365W</th>\n",
       "      <th>Best of</th>\n",
       "      <th>CBL</th>\n",
       "      <th>CBW</th>\n",
       "      <th>...</th>\n",
       "      <th>SBW</th>\n",
       "      <th>SJL</th>\n",
       "      <th>SJW</th>\n",
       "      <th>UBL</th>\n",
       "      <th>UBW</th>\n",
       "      <th>W1</th>\n",
       "      <th>W4</th>\n",
       "      <th>W5</th>\n",
       "      <th>WPts</th>\n",
       "      <th>Wsets</th>\n",
       "    </tr>\n",
       "  </thead>\n",
       "  <tbody>\n",
       "    <tr>\n",
       "      <th>count</th>\n",
       "      <td>52298.000000</td>\n",
       "      <td>22745.000000</td>\n",
       "      <td>22745.000000</td>\n",
       "      <td>1097.000000</td>\n",
       "      <td>1097.000000</td>\n",
       "      <td>43666.000000</td>\n",
       "      <td>43643.000000</td>\n",
       "      <td>52298.000000</td>\n",
       "      <td>17506.000000</td>\n",
       "      <td>17506.000000</td>\n",
       "      <td>...</td>\n",
       "      <td>5424.000000</td>\n",
       "      <td>15579.000000</td>\n",
       "      <td>15572.000000</td>\n",
       "      <td>10671.000000</td>\n",
       "      <td>10671.000000</td>\n",
       "      <td>52035.000000</td>\n",
       "      <td>4731.000000</td>\n",
       "      <td>1791.000000</td>\n",
       "      <td>36094.000000</td>\n",
       "      <td>52074.000000</td>\n",
       "    </tr>\n",
       "    <tr>\n",
       "      <th>mean</th>\n",
       "      <td>33.222532</td>\n",
       "      <td>3.594448</td>\n",
       "      <td>1.834821</td>\n",
       "      <td>2.547347</td>\n",
       "      <td>1.728633</td>\n",
       "      <td>3.551805</td>\n",
       "      <td>1.823768</td>\n",
       "      <td>3.372366</td>\n",
       "      <td>3.000658</td>\n",
       "      <td>1.812080</td>\n",
       "      <td>...</td>\n",
       "      <td>1.793035</td>\n",
       "      <td>3.557943</td>\n",
       "      <td>1.796538</td>\n",
       "      <td>3.542479</td>\n",
       "      <td>1.815867</td>\n",
       "      <td>5.794331</td>\n",
       "      <td>5.777003</td>\n",
       "      <td>6.637633</td>\n",
       "      <td>1831.891644</td>\n",
       "      <td>2.141760</td>\n",
       "    </tr>\n",
       "    <tr>\n",
       "      <th>std</th>\n",
       "      <td>18.115493</td>\n",
       "      <td>3.282610</td>\n",
       "      <td>1.107884</td>\n",
       "      <td>1.330386</td>\n",
       "      <td>0.730434</td>\n",
       "      <td>3.527564</td>\n",
       "      <td>1.100806</td>\n",
       "      <td>0.778516</td>\n",
       "      <td>2.032791</td>\n",
       "      <td>0.868254</td>\n",
       "      <td>...</td>\n",
       "      <td>0.751026</td>\n",
       "      <td>3.272510</td>\n",
       "      <td>1.004273</td>\n",
       "      <td>3.646316</td>\n",
       "      <td>0.996238</td>\n",
       "      <td>1.239577</td>\n",
       "      <td>1.274712</td>\n",
       "      <td>2.290596</td>\n",
       "      <td>2294.307489</td>\n",
       "      <td>0.460311</td>\n",
       "    </tr>\n",
       "    <tr>\n",
       "      <th>min</th>\n",
       "      <td>1.000000</td>\n",
       "      <td>1.010000</td>\n",
       "      <td>1.010000</td>\n",
       "      <td>1.020000</td>\n",
       "      <td>1.010000</td>\n",
       "      <td>1.002000</td>\n",
       "      <td>1.000000</td>\n",
       "      <td>3.000000</td>\n",
       "      <td>1.020000</td>\n",
       "      <td>1.000000</td>\n",
       "      <td>...</td>\n",
       "      <td>0.000000</td>\n",
       "      <td>1.010000</td>\n",
       "      <td>1.000000</td>\n",
       "      <td>1.020000</td>\n",
       "      <td>1.010000</td>\n",
       "      <td>0.000000</td>\n",
       "      <td>0.000000</td>\n",
       "      <td>0.000000</td>\n",
       "      <td>1.000000</td>\n",
       "      <td>0.000000</td>\n",
       "    </tr>\n",
       "    <tr>\n",
       "      <th>25%</th>\n",
       "      <td>19.000000</td>\n",
       "      <td>1.740000</td>\n",
       "      <td>1.240000</td>\n",
       "      <td>1.600000</td>\n",
       "      <td>1.250000</td>\n",
       "      <td>1.720000</td>\n",
       "      <td>1.222000</td>\n",
       "      <td>3.000000</td>\n",
       "      <td>1.720000</td>\n",
       "      <td>1.280000</td>\n",
       "      <td>...</td>\n",
       "      <td>1.333000</td>\n",
       "      <td>1.730000</td>\n",
       "      <td>1.220000</td>\n",
       "      <td>1.750000</td>\n",
       "      <td>1.240000</td>\n",
       "      <td>6.000000</td>\n",
       "      <td>6.000000</td>\n",
       "      <td>6.000000</td>\n",
       "      <td>640.000000</td>\n",
       "      <td>2.000000</td>\n",
       "    </tr>\n",
       "    <tr>\n",
       "      <th>50%</th>\n",
       "      <td>33.000000</td>\n",
       "      <td>2.550000</td>\n",
       "      <td>1.500000</td>\n",
       "      <td>2.150000</td>\n",
       "      <td>1.500000</td>\n",
       "      <td>2.500000</td>\n",
       "      <td>1.500000</td>\n",
       "      <td>3.000000</td>\n",
       "      <td>2.375000</td>\n",
       "      <td>1.550000</td>\n",
       "      <td>...</td>\n",
       "      <td>1.571000</td>\n",
       "      <td>2.630000</td>\n",
       "      <td>1.500000</td>\n",
       "      <td>2.500000</td>\n",
       "      <td>1.500000</td>\n",
       "      <td>6.000000</td>\n",
       "      <td>6.000000</td>\n",
       "      <td>6.000000</td>\n",
       "      <td>1007.000000</td>\n",
       "      <td>2.000000</td>\n",
       "    </tr>\n",
       "    <tr>\n",
       "      <th>75%</th>\n",
       "      <td>49.000000</td>\n",
       "      <td>3.990000</td>\n",
       "      <td>2.060000</td>\n",
       "      <td>3.100000</td>\n",
       "      <td>1.950000</td>\n",
       "      <td>4.000000</td>\n",
       "      <td>2.075000</td>\n",
       "      <td>3.000000</td>\n",
       "      <td>3.400000</td>\n",
       "      <td>2.050000</td>\n",
       "      <td>...</td>\n",
       "      <td>2.100000</td>\n",
       "      <td>4.000000</td>\n",
       "      <td>2.000000</td>\n",
       "      <td>3.850000</td>\n",
       "      <td>2.030000</td>\n",
       "      <td>6.000000</td>\n",
       "      <td>6.000000</td>\n",
       "      <td>7.000000</td>\n",
       "      <td>1895.000000</td>\n",
       "      <td>2.000000</td>\n",
       "    </tr>\n",
       "    <tr>\n",
       "      <th>max</th>\n",
       "      <td>69.000000</td>\n",
       "      <td>36.440000</td>\n",
       "      <td>23.450000</td>\n",
       "      <td>9.000000</td>\n",
       "      <td>7.500000</td>\n",
       "      <td>101.000000</td>\n",
       "      <td>29.000000</td>\n",
       "      <td>5.000000</td>\n",
       "      <td>25.000000</td>\n",
       "      <td>14.000000</td>\n",
       "      <td>...</td>\n",
       "      <td>9.000000</td>\n",
       "      <td>81.000000</td>\n",
       "      <td>19.000000</td>\n",
       "      <td>60.000000</td>\n",
       "      <td>18.000000</td>\n",
       "      <td>7.000000</td>\n",
       "      <td>7.000000</td>\n",
       "      <td>70.000000</td>\n",
       "      <td>16950.000000</td>\n",
       "      <td>3.000000</td>\n",
       "    </tr>\n",
       "  </tbody>\n",
       "</table>\n",
       "<p>8 rows × 36 columns</p>\n",
       "</div>"
      ],
      "text/plain": [
       "                ATP          AvgL          AvgW         B&WL         B&WW  \\\n",
       "count  52298.000000  22745.000000  22745.000000  1097.000000  1097.000000   \n",
       "mean      33.222532      3.594448      1.834821     2.547347     1.728633   \n",
       "std       18.115493      3.282610      1.107884     1.330386     0.730434   \n",
       "min        1.000000      1.010000      1.010000     1.020000     1.010000   \n",
       "25%       19.000000      1.740000      1.240000     1.600000     1.250000   \n",
       "50%       33.000000      2.550000      1.500000     2.150000     1.500000   \n",
       "75%       49.000000      3.990000      2.060000     3.100000     1.950000   \n",
       "max       69.000000     36.440000     23.450000     9.000000     7.500000   \n",
       "\n",
       "              B365L         B365W       Best of           CBL           CBW  \\\n",
       "count  43666.000000  43643.000000  52298.000000  17506.000000  17506.000000   \n",
       "mean       3.551805      1.823768      3.372366      3.000658      1.812080   \n",
       "std        3.527564      1.100806      0.778516      2.032791      0.868254   \n",
       "min        1.002000      1.000000      3.000000      1.020000      1.000000   \n",
       "25%        1.720000      1.222000      3.000000      1.720000      1.280000   \n",
       "50%        2.500000      1.500000      3.000000      2.375000      1.550000   \n",
       "75%        4.000000      2.075000      3.000000      3.400000      2.050000   \n",
       "max      101.000000     29.000000      5.000000     25.000000     14.000000   \n",
       "\n",
       "           ...               SBW           SJL           SJW           UBL  \\\n",
       "count      ...       5424.000000  15579.000000  15572.000000  10671.000000   \n",
       "mean       ...          1.793035      3.557943      1.796538      3.542479   \n",
       "std        ...          0.751026      3.272510      1.004273      3.646316   \n",
       "min        ...          0.000000      1.010000      1.000000      1.020000   \n",
       "25%        ...          1.333000      1.730000      1.220000      1.750000   \n",
       "50%        ...          1.571000      2.630000      1.500000      2.500000   \n",
       "75%        ...          2.100000      4.000000      2.000000      3.850000   \n",
       "max        ...          9.000000     81.000000     19.000000     60.000000   \n",
       "\n",
       "                UBW            W1           W4           W5          WPts  \\\n",
       "count  10671.000000  52035.000000  4731.000000  1791.000000  36094.000000   \n",
       "mean       1.815867      5.794331     5.777003     6.637633   1831.891644   \n",
       "std        0.996238      1.239577     1.274712     2.290596   2294.307489   \n",
       "min        1.010000      0.000000     0.000000     0.000000      1.000000   \n",
       "25%        1.240000      6.000000     6.000000     6.000000    640.000000   \n",
       "50%        1.500000      6.000000     6.000000     6.000000   1007.000000   \n",
       "75%        2.030000      6.000000     6.000000     7.000000   1895.000000   \n",
       "max       18.000000      7.000000     7.000000    70.000000  16950.000000   \n",
       "\n",
       "              Wsets  \n",
       "count  52074.000000  \n",
       "mean       2.141760  \n",
       "std        0.460311  \n",
       "min        0.000000  \n",
       "25%        2.000000  \n",
       "50%        2.000000  \n",
       "75%        2.000000  \n",
       "max        3.000000  \n",
       "\n",
       "[8 rows x 36 columns]"
      ]
     },
     "execution_count": 7,
     "metadata": {},
     "output_type": "execute_result"
    }
   ],
   "source": [
    "df_atp.describe()"
   ]
  },
  {
   "cell_type": "code",
   "execution_count": 12,
   "metadata": {},
   "outputs": [
    {
     "name": "stdout",
     "output_type": "stream",
     "text": [
      "<class 'pandas.core.frame.DataFrame'>\n",
      "RangeIndex: 52298 entries, 0 to 52297\n",
      "Data columns (total 54 columns):\n",
      "ATP           52298 non-null int64\n",
      "AvgL          22745 non-null float64\n",
      "AvgW          22745 non-null float64\n",
      "B&WL          1097 non-null float64\n",
      "B&WW          1097 non-null float64\n",
      "B365L         43666 non-null float64\n",
      "B365W         43643 non-null float64\n",
      "Best of       52298 non-null int64\n",
      "CBL           17506 non-null float64\n",
      "CBW           17506 non-null float64\n",
      "Comment       52298 non-null object\n",
      "Court         52298 non-null object\n",
      "Date          52298 non-null datetime64[ns]\n",
      "EXL           39416 non-null float64\n",
      "EXW           39411 non-null object\n",
      "GBL           5055 non-null float64\n",
      "GBW           5055 non-null float64\n",
      "IWL           13358 non-null float64\n",
      "IWW           13358 non-null float64\n",
      "L1            52037 non-null float64\n",
      "L2            51527 non-null object\n",
      "L3            24168 non-null object\n",
      "L4            4731 non-null float64\n",
      "L5            1791 non-null float64\n",
      "LBL           28142 non-null float64\n",
      "LBW           28131 non-null float64\n",
      "LPts          36035 non-null float64\n",
      "LRank         52220 non-null object\n",
      "Location      52298 non-null object\n",
      "Loser         52298 non-null object\n",
      "Lsets         52073 non-null object\n",
      "MaxL          22745 non-null float64\n",
      "MaxW          22745 non-null float64\n",
      "PSL           37339 non-null float64\n",
      "PSW           37339 non-null float64\n",
      "Round         52298 non-null object\n",
      "SBL           5424 non-null float64\n",
      "SBW           5424 non-null float64\n",
      "SJL           15579 non-null float64\n",
      "SJW           15572 non-null float64\n",
      "Series        52298 non-null object\n",
      "Surface       52298 non-null object\n",
      "Tournament    52298 non-null object\n",
      "UBL           10671 non-null float64\n",
      "UBW           10671 non-null float64\n",
      "W1            52035 non-null float64\n",
      "W2            51526 non-null object\n",
      "W3            24169 non-null object\n",
      "W4            4731 non-null float64\n",
      "W5            1791 non-null float64\n",
      "WPts          36094 non-null float64\n",
      "WRank         52283 non-null object\n",
      "Winner        52298 non-null object\n",
      "Wsets         52074 non-null float64\n",
      "dtypes: datetime64[ns](1), float64(34), int64(2), object(17)\n",
      "memory usage: 21.5+ MB\n"
     ]
    }
   ],
   "source": [
    "df_atp.info()"
   ]
  },
  {
   "cell_type": "markdown",
   "metadata": {},
   "source": [
    "## Analyse descriptive sur df_wta"
   ]
  },
  {
   "cell_type": "code",
   "execution_count": 13,
   "metadata": {},
   "outputs": [
    {
     "data": {
      "text/plain": [
       "(29581, 42)"
      ]
     },
     "execution_count": 13,
     "metadata": {},
     "output_type": "execute_result"
    }
   ],
   "source": [
    "df_wta.shape"
   ]
  },
  {
   "cell_type": "code",
   "execution_count": 14,
   "metadata": {},
   "outputs": [
    {
     "data": {
      "text/html": [
       "<div>\n",
       "<style scoped>\n",
       "    .dataframe tbody tr th:only-of-type {\n",
       "        vertical-align: middle;\n",
       "    }\n",
       "\n",
       "    .dataframe tbody tr th {\n",
       "        vertical-align: top;\n",
       "    }\n",
       "\n",
       "    .dataframe thead th {\n",
       "        text-align: right;\n",
       "    }\n",
       "</style>\n",
       "<table border=\"1\" class=\"dataframe\">\n",
       "  <thead>\n",
       "    <tr style=\"text-align: right;\">\n",
       "      <th></th>\n",
       "      <th>AvgL</th>\n",
       "      <th>AvgW</th>\n",
       "      <th>B365L</th>\n",
       "      <th>B365W</th>\n",
       "      <th>Best of</th>\n",
       "      <th>CBL</th>\n",
       "      <th>CBW</th>\n",
       "      <th>Comment</th>\n",
       "      <th>Court</th>\n",
       "      <th>Date</th>\n",
       "      <th>...</th>\n",
       "      <th>UBL</th>\n",
       "      <th>UBW</th>\n",
       "      <th>W1</th>\n",
       "      <th>W2</th>\n",
       "      <th>W3</th>\n",
       "      <th>WPts</th>\n",
       "      <th>WRank</th>\n",
       "      <th>WTA</th>\n",
       "      <th>Winner</th>\n",
       "      <th>Wsets</th>\n",
       "    </tr>\n",
       "  </thead>\n",
       "  <tbody>\n",
       "    <tr>\n",
       "      <th>0</th>\n",
       "      <td>NaN</td>\n",
       "      <td>NaN</td>\n",
       "      <td>3</td>\n",
       "      <td>1.33</td>\n",
       "      <td>3</td>\n",
       "      <td>2.90</td>\n",
       "      <td>1.38</td>\n",
       "      <td>Completed</td>\n",
       "      <td>Outdoor</td>\n",
       "      <td>2007-01-01</td>\n",
       "      <td>...</td>\n",
       "      <td>3.05</td>\n",
       "      <td>1.35</td>\n",
       "      <td>6.0</td>\n",
       "      <td>6.0</td>\n",
       "      <td>NaN</td>\n",
       "      <td>332.25</td>\n",
       "      <td>81.0</td>\n",
       "      <td>1</td>\n",
       "      <td>Sun T.T.</td>\n",
       "      <td>2.0</td>\n",
       "    </tr>\n",
       "    <tr>\n",
       "      <th>1</th>\n",
       "      <td>NaN</td>\n",
       "      <td>NaN</td>\n",
       "      <td>1.22</td>\n",
       "      <td>3.75</td>\n",
       "      <td>3</td>\n",
       "      <td>1.18</td>\n",
       "      <td>4.50</td>\n",
       "      <td>Completed</td>\n",
       "      <td>Outdoor</td>\n",
       "      <td>2007-01-01</td>\n",
       "      <td>...</td>\n",
       "      <td>1.25</td>\n",
       "      <td>3.75</td>\n",
       "      <td>6.0</td>\n",
       "      <td>6.0</td>\n",
       "      <td>6.0</td>\n",
       "      <td>401.75</td>\n",
       "      <td>59.0</td>\n",
       "      <td>1</td>\n",
       "      <td>Dulko G.</td>\n",
       "      <td>2.0</td>\n",
       "    </tr>\n",
       "    <tr>\n",
       "      <th>2</th>\n",
       "      <td>NaN</td>\n",
       "      <td>NaN</td>\n",
       "      <td>2</td>\n",
       "      <td>1.72</td>\n",
       "      <td>3</td>\n",
       "      <td>1.85</td>\n",
       "      <td>1.90</td>\n",
       "      <td>Completed</td>\n",
       "      <td>Outdoor</td>\n",
       "      <td>2007-01-01</td>\n",
       "      <td>...</td>\n",
       "      <td>NaN</td>\n",
       "      <td>NaN</td>\n",
       "      <td>6.0</td>\n",
       "      <td>6.0</td>\n",
       "      <td>NaN</td>\n",
       "      <td>418.50</td>\n",
       "      <td>56.0</td>\n",
       "      <td>1</td>\n",
       "      <td>Loit E.</td>\n",
       "      <td>2.0</td>\n",
       "    </tr>\n",
       "    <tr>\n",
       "      <th>3</th>\n",
       "      <td>NaN</td>\n",
       "      <td>NaN</td>\n",
       "      <td>1.83</td>\n",
       "      <td>1.83</td>\n",
       "      <td>3</td>\n",
       "      <td>1.66</td>\n",
       "      <td>2.15</td>\n",
       "      <td>Completed</td>\n",
       "      <td>Outdoor</td>\n",
       "      <td>2007-01-01</td>\n",
       "      <td>...</td>\n",
       "      <td>NaN</td>\n",
       "      <td>NaN</td>\n",
       "      <td>7.0</td>\n",
       "      <td>6.0</td>\n",
       "      <td>NaN</td>\n",
       "      <td>365.50</td>\n",
       "      <td>70.0</td>\n",
       "      <td>1</td>\n",
       "      <td>Craybas J.</td>\n",
       "      <td>2.0</td>\n",
       "    </tr>\n",
       "    <tr>\n",
       "      <th>4</th>\n",
       "      <td>NaN</td>\n",
       "      <td>NaN</td>\n",
       "      <td>4.5</td>\n",
       "      <td>1.16</td>\n",
       "      <td>3</td>\n",
       "      <td>4.85</td>\n",
       "      <td>1.16</td>\n",
       "      <td>Completed</td>\n",
       "      <td>Outdoor</td>\n",
       "      <td>2007-01-01</td>\n",
       "      <td>...</td>\n",
       "      <td>4.30</td>\n",
       "      <td>1.20</td>\n",
       "      <td>7.0</td>\n",
       "      <td>6.0</td>\n",
       "      <td>NaN</td>\n",
       "      <td>951.00</td>\n",
       "      <td>18.0</td>\n",
       "      <td>1</td>\n",
       "      <td>Bartoli M.</td>\n",
       "      <td>2.0</td>\n",
       "    </tr>\n",
       "  </tbody>\n",
       "</table>\n",
       "<p>5 rows × 42 columns</p>\n",
       "</div>"
      ],
      "text/plain": [
       "   AvgL  AvgW B365L  B365W  Best of   CBL   CBW    Comment    Court  \\\n",
       "0   NaN   NaN     3   1.33        3  2.90  1.38  Completed  Outdoor   \n",
       "1   NaN   NaN  1.22   3.75        3  1.18  4.50  Completed  Outdoor   \n",
       "2   NaN   NaN     2   1.72        3  1.85  1.90  Completed  Outdoor   \n",
       "3   NaN   NaN  1.83   1.83        3  1.66  2.15  Completed  Outdoor   \n",
       "4   NaN   NaN   4.5   1.16        3  4.85  1.16  Completed  Outdoor   \n",
       "\n",
       "        Date  ...    UBL   UBW   W1   W2   W3    WPts WRank  WTA      Winner  \\\n",
       "0 2007-01-01  ...   3.05  1.35  6.0  6.0  NaN  332.25  81.0    1    Sun T.T.   \n",
       "1 2007-01-01  ...   1.25  3.75  6.0  6.0  6.0  401.75  59.0    1    Dulko G.   \n",
       "2 2007-01-01  ...    NaN   NaN  6.0  6.0  NaN  418.50  56.0    1     Loit E.   \n",
       "3 2007-01-01  ...    NaN   NaN  7.0  6.0  NaN  365.50  70.0    1  Craybas J.   \n",
       "4 2007-01-01  ...   4.30  1.20  7.0  6.0  NaN  951.00  18.0    1  Bartoli M.   \n",
       "\n",
       "  Wsets  \n",
       "0   2.0  \n",
       "1   2.0  \n",
       "2   2.0  \n",
       "3   2.0  \n",
       "4   2.0  \n",
       "\n",
       "[5 rows x 42 columns]"
      ]
     },
     "execution_count": 14,
     "metadata": {},
     "output_type": "execute_result"
    }
   ],
   "source": [
    "df_wta.head()"
   ]
  },
  {
   "cell_type": "code",
   "execution_count": 15,
   "metadata": {},
   "outputs": [
    {
     "data": {
      "text/html": [
       "<div>\n",
       "<style scoped>\n",
       "    .dataframe tbody tr th:only-of-type {\n",
       "        vertical-align: middle;\n",
       "    }\n",
       "\n",
       "    .dataframe tbody tr th {\n",
       "        vertical-align: top;\n",
       "    }\n",
       "\n",
       "    .dataframe thead th {\n",
       "        text-align: right;\n",
       "    }\n",
       "</style>\n",
       "<table border=\"1\" class=\"dataframe\">\n",
       "  <thead>\n",
       "    <tr style=\"text-align: right;\">\n",
       "      <th></th>\n",
       "      <th>AvgL</th>\n",
       "      <th>AvgW</th>\n",
       "      <th>B365W</th>\n",
       "      <th>Best of</th>\n",
       "      <th>CBL</th>\n",
       "      <th>CBW</th>\n",
       "      <th>EXL</th>\n",
       "      <th>L1</th>\n",
       "      <th>L2</th>\n",
       "      <th>L3</th>\n",
       "      <th>...</th>\n",
       "      <th>SJW</th>\n",
       "      <th>UBL</th>\n",
       "      <th>UBW</th>\n",
       "      <th>W1</th>\n",
       "      <th>W2</th>\n",
       "      <th>W3</th>\n",
       "      <th>WPts</th>\n",
       "      <th>WRank</th>\n",
       "      <th>WTA</th>\n",
       "      <th>Wsets</th>\n",
       "    </tr>\n",
       "  </thead>\n",
       "  <tbody>\n",
       "    <tr>\n",
       "      <th>count</th>\n",
       "      <td>21356.000000</td>\n",
       "      <td>21356.000000</td>\n",
       "      <td>29344.000000</td>\n",
       "      <td>29581.000000</td>\n",
       "      <td>2428.000000</td>\n",
       "      <td>2428.000000</td>\n",
       "      <td>28833.000000</td>\n",
       "      <td>29405.000000</td>\n",
       "      <td>29110.000000</td>\n",
       "      <td>9349.000000</td>\n",
       "      <td>...</td>\n",
       "      <td>14139.000000</td>\n",
       "      <td>6921.000000</td>\n",
       "      <td>6921.000000</td>\n",
       "      <td>29405.000000</td>\n",
       "      <td>29111.000000</td>\n",
       "      <td>9349.000000</td>\n",
       "      <td>29543.000000</td>\n",
       "      <td>29543.000000</td>\n",
       "      <td>29581.000000</td>\n",
       "      <td>29407.000000</td>\n",
       "    </tr>\n",
       "    <tr>\n",
       "      <th>mean</th>\n",
       "      <td>3.117665</td>\n",
       "      <td>1.855391</td>\n",
       "      <td>1.845174</td>\n",
       "      <td>3.000068</td>\n",
       "      <td>3.669650</td>\n",
       "      <td>1.765894</td>\n",
       "      <td>3.070021</td>\n",
       "      <td>3.571808</td>\n",
       "      <td>3.395156</td>\n",
       "      <td>3.132421</td>\n",
       "      <td>...</td>\n",
       "      <td>1.823464</td>\n",
       "      <td>3.535570</td>\n",
       "      <td>1.812594</td>\n",
       "      <td>5.715287</td>\n",
       "      <td>5.709835</td>\n",
       "      <td>6.192213</td>\n",
       "      <td>1884.599897</td>\n",
       "      <td>57.566361</td>\n",
       "      <td>28.301410</td>\n",
       "      <td>1.962186</td>\n",
       "    </tr>\n",
       "    <tr>\n",
       "      <th>std</th>\n",
       "      <td>2.313865</td>\n",
       "      <td>0.971865</td>\n",
       "      <td>1.062936</td>\n",
       "      <td>0.011628</td>\n",
       "      <td>2.737051</td>\n",
       "      <td>1.027977</td>\n",
       "      <td>2.083360</td>\n",
       "      <td>1.940725</td>\n",
       "      <td>1.962596</td>\n",
       "      <td>1.692696</td>\n",
       "      <td>...</td>\n",
       "      <td>0.983359</td>\n",
       "      <td>3.021532</td>\n",
       "      <td>1.045906</td>\n",
       "      <td>1.271882</td>\n",
       "      <td>1.267732</td>\n",
       "      <td>0.680399</td>\n",
       "      <td>1881.278074</td>\n",
       "      <td>64.991961</td>\n",
       "      <td>15.753726</td>\n",
       "      <td>0.224945</td>\n",
       "    </tr>\n",
       "    <tr>\n",
       "      <th>min</th>\n",
       "      <td>1.010000</td>\n",
       "      <td>1.010000</td>\n",
       "      <td>1.000000</td>\n",
       "      <td>3.000000</td>\n",
       "      <td>1.020000</td>\n",
       "      <td>1.010000</td>\n",
       "      <td>1.010000</td>\n",
       "      <td>0.000000</td>\n",
       "      <td>0.000000</td>\n",
       "      <td>0.000000</td>\n",
       "      <td>...</td>\n",
       "      <td>1.007000</td>\n",
       "      <td>1.010000</td>\n",
       "      <td>1.010000</td>\n",
       "      <td>0.000000</td>\n",
       "      <td>0.000000</td>\n",
       "      <td>0.000000</td>\n",
       "      <td>4.000000</td>\n",
       "      <td>1.000000</td>\n",
       "      <td>1.000000</td>\n",
       "      <td>0.000000</td>\n",
       "    </tr>\n",
       "    <tr>\n",
       "      <th>25%</th>\n",
       "      <td>1.710000</td>\n",
       "      <td>1.280000</td>\n",
       "      <td>1.250000</td>\n",
       "      <td>3.000000</td>\n",
       "      <td>1.800000</td>\n",
       "      <td>1.180000</td>\n",
       "      <td>1.700000</td>\n",
       "      <td>2.000000</td>\n",
       "      <td>2.000000</td>\n",
       "      <td>2.000000</td>\n",
       "      <td>...</td>\n",
       "      <td>1.250000</td>\n",
       "      <td>1.770000</td>\n",
       "      <td>1.220000</td>\n",
       "      <td>6.000000</td>\n",
       "      <td>6.000000</td>\n",
       "      <td>6.000000</td>\n",
       "      <td>708.500000</td>\n",
       "      <td>17.000000</td>\n",
       "      <td>15.000000</td>\n",
       "      <td>2.000000</td>\n",
       "    </tr>\n",
       "    <tr>\n",
       "      <th>50%</th>\n",
       "      <td>2.410000</td>\n",
       "      <td>1.550000</td>\n",
       "      <td>1.500000</td>\n",
       "      <td>3.000000</td>\n",
       "      <td>2.700000</td>\n",
       "      <td>1.430000</td>\n",
       "      <td>2.400000</td>\n",
       "      <td>3.000000</td>\n",
       "      <td>3.000000</td>\n",
       "      <td>3.000000</td>\n",
       "      <td>...</td>\n",
       "      <td>1.500000</td>\n",
       "      <td>2.600000</td>\n",
       "      <td>1.470000</td>\n",
       "      <td>6.000000</td>\n",
       "      <td>6.000000</td>\n",
       "      <td>6.000000</td>\n",
       "      <td>1215.000000</td>\n",
       "      <td>40.000000</td>\n",
       "      <td>28.000000</td>\n",
       "      <td>2.000000</td>\n",
       "    </tr>\n",
       "    <tr>\n",
       "      <th>75%</th>\n",
       "      <td>3.570000</td>\n",
       "      <td>2.100000</td>\n",
       "      <td>2.100000</td>\n",
       "      <td>3.000000</td>\n",
       "      <td>4.500000</td>\n",
       "      <td>1.950000</td>\n",
       "      <td>3.600000</td>\n",
       "      <td>5.000000</td>\n",
       "      <td>5.000000</td>\n",
       "      <td>4.000000</td>\n",
       "      <td>...</td>\n",
       "      <td>2.100000</td>\n",
       "      <td>4.100000</td>\n",
       "      <td>2.000000</td>\n",
       "      <td>6.000000</td>\n",
       "      <td>6.000000</td>\n",
       "      <td>6.000000</td>\n",
       "      <td>2345.000000</td>\n",
       "      <td>78.000000</td>\n",
       "      <td>42.000000</td>\n",
       "      <td>2.000000</td>\n",
       "    </tr>\n",
       "    <tr>\n",
       "      <th>max</th>\n",
       "      <td>41.800000</td>\n",
       "      <td>20.140000</td>\n",
       "      <td>23.000000</td>\n",
       "      <td>5.000000</td>\n",
       "      <td>16.000000</td>\n",
       "      <td>14.000000</td>\n",
       "      <td>24.000000</td>\n",
       "      <td>7.000000</td>\n",
       "      <td>7.000000</td>\n",
       "      <td>14.000000</td>\n",
       "      <td>...</td>\n",
       "      <td>17.000000</td>\n",
       "      <td>54.000000</td>\n",
       "      <td>20.000000</td>\n",
       "      <td>7.000000</td>\n",
       "      <td>7.000000</td>\n",
       "      <td>16.000000</td>\n",
       "      <td>13615.000000</td>\n",
       "      <td>1208.000000</td>\n",
       "      <td>61.000000</td>\n",
       "      <td>2.000000</td>\n",
       "    </tr>\n",
       "  </tbody>\n",
       "</table>\n",
       "<p>8 rows × 29 columns</p>\n",
       "</div>"
      ],
      "text/plain": [
       "               AvgL          AvgW         B365W       Best of          CBL  \\\n",
       "count  21356.000000  21356.000000  29344.000000  29581.000000  2428.000000   \n",
       "mean       3.117665      1.855391      1.845174      3.000068     3.669650   \n",
       "std        2.313865      0.971865      1.062936      0.011628     2.737051   \n",
       "min        1.010000      1.010000      1.000000      3.000000     1.020000   \n",
       "25%        1.710000      1.280000      1.250000      3.000000     1.800000   \n",
       "50%        2.410000      1.550000      1.500000      3.000000     2.700000   \n",
       "75%        3.570000      2.100000      2.100000      3.000000     4.500000   \n",
       "max       41.800000     20.140000     23.000000      5.000000    16.000000   \n",
       "\n",
       "               CBW           EXL            L1            L2           L3  \\\n",
       "count  2428.000000  28833.000000  29405.000000  29110.000000  9349.000000   \n",
       "mean      1.765894      3.070021      3.571808      3.395156     3.132421   \n",
       "std       1.027977      2.083360      1.940725      1.962596     1.692696   \n",
       "min       1.010000      1.010000      0.000000      0.000000     0.000000   \n",
       "25%       1.180000      1.700000      2.000000      2.000000     2.000000   \n",
       "50%       1.430000      2.400000      3.000000      3.000000     3.000000   \n",
       "75%       1.950000      3.600000      5.000000      5.000000     4.000000   \n",
       "max      14.000000     24.000000      7.000000      7.000000    14.000000   \n",
       "\n",
       "           ...                SJW          UBL          UBW            W1  \\\n",
       "count      ...       14139.000000  6921.000000  6921.000000  29405.000000   \n",
       "mean       ...           1.823464     3.535570     1.812594      5.715287   \n",
       "std        ...           0.983359     3.021532     1.045906      1.271882   \n",
       "min        ...           1.007000     1.010000     1.010000      0.000000   \n",
       "25%        ...           1.250000     1.770000     1.220000      6.000000   \n",
       "50%        ...           1.500000     2.600000     1.470000      6.000000   \n",
       "75%        ...           2.100000     4.100000     2.000000      6.000000   \n",
       "max        ...          17.000000    54.000000    20.000000      7.000000   \n",
       "\n",
       "                 W2           W3          WPts         WRank           WTA  \\\n",
       "count  29111.000000  9349.000000  29543.000000  29543.000000  29581.000000   \n",
       "mean       5.709835     6.192213   1884.599897     57.566361     28.301410   \n",
       "std        1.267732     0.680399   1881.278074     64.991961     15.753726   \n",
       "min        0.000000     0.000000      4.000000      1.000000      1.000000   \n",
       "25%        6.000000     6.000000    708.500000     17.000000     15.000000   \n",
       "50%        6.000000     6.000000   1215.000000     40.000000     28.000000   \n",
       "75%        6.000000     6.000000   2345.000000     78.000000     42.000000   \n",
       "max        7.000000    16.000000  13615.000000   1208.000000     61.000000   \n",
       "\n",
       "              Wsets  \n",
       "count  29407.000000  \n",
       "mean       1.962186  \n",
       "std        0.224945  \n",
       "min        0.000000  \n",
       "25%        2.000000  \n",
       "50%        2.000000  \n",
       "75%        2.000000  \n",
       "max        2.000000  \n",
       "\n",
       "[8 rows x 29 columns]"
      ]
     },
     "execution_count": 15,
     "metadata": {},
     "output_type": "execute_result"
    }
   ],
   "source": [
    "df_wta.describe()"
   ]
  },
  {
   "cell_type": "code",
   "execution_count": 16,
   "metadata": {},
   "outputs": [
    {
     "name": "stdout",
     "output_type": "stream",
     "text": [
      "<class 'pandas.core.frame.DataFrame'>\n",
      "RangeIndex: 29581 entries, 0 to 29580\n",
      "Data columns (total 42 columns):\n",
      "AvgL          21356 non-null float64\n",
      "AvgW          21356 non-null float64\n",
      "B365L         29346 non-null object\n",
      "B365W         29344 non-null float64\n",
      "Best of       29581 non-null int64\n",
      "CBL           2428 non-null float64\n",
      "CBW           2428 non-null float64\n",
      "Comment       29581 non-null object\n",
      "Court         29581 non-null object\n",
      "Date          29579 non-null datetime64[ns]\n",
      "EXL           28833 non-null float64\n",
      "EXW           28834 non-null object\n",
      "L1            29405 non-null float64\n",
      "L2            29110 non-null float64\n",
      "L3            9349 non-null float64\n",
      "LBL           26210 non-null float64\n",
      "LBW           26210 non-null object\n",
      "LPts          29502 non-null float64\n",
      "LRank         29502 non-null float64\n",
      "Location      29581 non-null object\n",
      "Loser         29581 non-null object\n",
      "Lsets         29407 non-null float64\n",
      "MaxL          21356 non-null float64\n",
      "MaxW          21356 non-null float64\n",
      "PSL           26890 non-null float64\n",
      "PSW           26890 non-null float64\n",
      "Round         29581 non-null object\n",
      "SJL           14139 non-null float64\n",
      "SJW           14139 non-null float64\n",
      "Surface       29581 non-null object\n",
      "Tier          29581 non-null object\n",
      "Tournament    29581 non-null object\n",
      "UBL           6921 non-null float64\n",
      "UBW           6921 non-null float64\n",
      "W1            29405 non-null float64\n",
      "W2            29111 non-null float64\n",
      "W3            9349 non-null float64\n",
      "WPts          29543 non-null float64\n",
      "WRank         29543 non-null float64\n",
      "WTA           29581 non-null int64\n",
      "Winner        29581 non-null object\n",
      "Wsets         29407 non-null float64\n",
      "dtypes: datetime64[ns](1), float64(27), int64(2), object(12)\n",
      "memory usage: 9.5+ MB\n"
     ]
    }
   ],
   "source": [
    "df_wta.info()"
   ]
  },
  {
   "cell_type": "markdown",
   "metadata": {},
   "source": [
    "## Questions :"
   ]
  },
  {
   "cell_type": "markdown",
   "metadata": {},
   "source": [
    "#### 1. Who are the three ATP players with the most wins ?"
   ]
  },
  {
   "cell_type": "code",
   "execution_count": 17,
   "metadata": {},
   "outputs": [
    {
     "data": {
      "text/plain": [
       "Winner\n",
       "Federer R.     1121\n",
       "Nadal R.        891\n",
       "Djokovic N.     802\n",
       "dtype: int64"
      ]
     },
     "execution_count": 17,
     "metadata": {},
     "output_type": "execute_result"
    }
   ],
   "source": [
    "df_atp.groupby('Winner').size().sort_values(ascending=False)[:3]"
   ]
  },
  {
   "cell_type": "markdown",
   "metadata": {},
   "source": [
    "#### 2. How many sets did the player “ Federer R.” win in total ?"
   ]
  },
  {
   "cell_type": "code",
   "execution_count": 18,
   "metadata": {},
   "outputs": [
    {
     "name": "stdout",
     "output_type": "stream",
     "text": [
      "2696.0\n"
     ]
    }
   ],
   "source": [
    "win = df_atp[df_atp.Winner == 'Federer R.'].Wsets.sum()\n",
    "lose = df_atp[df_atp.Loser == 'Federer R.'].Lsets.replace('`','',regex=True).dropna().astype(int).sum()\n",
    "print(win + lose)"
   ]
  },
  {
   "cell_type": "markdown",
   "metadata": {},
   "source": [
    "#### 3. How many sets did the player “ Federer R.” win during the years 2016 and 2017 ?"
   ]
  },
  {
   "cell_type": "code",
   "execution_count": 19,
   "metadata": {},
   "outputs": [
    {
     "name": "stdout",
     "output_type": "stream",
     "text": [
      "182.0\n"
     ]
    }
   ],
   "source": [
    "df_1617 = df_atp[df_atp.Date.between('2016', '2017-12-31')]\n",
    "win = df_1617[df_1617.Winner == 'Federer R.'].Wsets.sum()\n",
    "lose = df_1617[df_1617.Loser == 'Federer R.'].Lsets.sum()\n",
    "print(win + lose)\n",
    "del df_1617"
   ]
  },
  {
   "cell_type": "markdown",
   "metadata": {},
   "source": [
    "#### 4. For each match, what is the percentage of victories of the winner in the past ?"
   ]
  },
  {
   "cell_type": "code",
   "execution_count": 68,
   "metadata": {},
   "outputs": [
    {
     "name": "stdout",
     "output_type": "stream",
     "text": [
      "The Cython extension is already loaded. To reload it, use:\n",
      "  %reload_ext Cython\n"
     ]
    }
   ],
   "source": [
    "%load_ext Cython\n",
    "# On utilise Cython pour améliorer les performances"
   ]
  },
  {
   "cell_type": "code",
   "execution_count": 91,
   "metadata": {},
   "outputs": [],
   "source": [
    "%%cython\n",
    "cimport numpy as np\n",
    "import numpy as np\n",
    "\n",
    "cpdef np.ndarray[double] crate(np.ndarray arr, int w, int indW, int indL):\n",
    "    cdef int i, j, win, los, tot\n",
    "    cdef str p\n",
    "    cdef np.ndarray[double] res = np.empty(len(arr))\n",
    "    \n",
    "    for i in range(len(arr)):\n",
    "        \n",
    "        if w == 1:\n",
    "            p = arr[i,indW]\n",
    "        elif w == 0:\n",
    "            p = arr[i,indL]\n",
    "        \n",
    "        win = 0\n",
    "        los = 0\n",
    "        for j in range(i):\n",
    "            if arr[j,indW] == p:\n",
    "                win += 1\n",
    "            elif arr[j,indL] == p:\n",
    "                los += 1\n",
    "        \n",
    "        tot = win + los\n",
    "        if tot != 0:\n",
    "            res[i] = win/tot\n",
    "        else:\n",
    "            res[i] = 0\n",
    "    \n",
    "    return res"
   ]
  },
  {
   "cell_type": "code",
   "execution_count": 92,
   "metadata": {},
   "outputs": [],
   "source": [
    "indW = df_atp.columns.get_loc(\"Winner\")\n",
    "indL = df_atp.columns.get_loc(\"Loser\")\n",
    "df_atp['W_%'] = pd.Series(range(df_atp.shape[0]))\n",
    "a = crate(df_atp.values, 1, indW, indL)\n",
    "df_atp['W_%'] = a\n",
    "\n",
    "del a"
   ]
  },
  {
   "cell_type": "code",
   "execution_count": 34,
   "metadata": {},
   "outputs": [],
   "source": [
    "# Ancienne version avec pandas\n",
    "def rate(df,i,w):\n",
    "    if w == 1:\n",
    "        p = df.iloc[i].Winner\n",
    "    elif w == 0:\n",
    "        p = df.iloc[i].Loser\n",
    "    win = df[(df.index < i) & (df.Winner == p)].shape[0]\n",
    "    tot = df[(df.index < i) & (df.Winner == p)].shape[0] + df[(df.index < i) & (df.Loser == p)].shape[0]\n",
    "    if tot != 0:\n",
    "        return (win/tot)\n",
    "    else:\n",
    "        return 0"
   ]
  },
  {
   "cell_type": "code",
   "execution_count": 36,
   "metadata": {},
   "outputs": [],
   "source": [
    "# Ancienne version\n",
    "df_atp['W_%'] = pd.Series(range(df_atp.shape[0]))\n",
    "df_atp['W_%'] = df_atp['W_%'].apply(lambda x: rate(df_atp, x,1))"
   ]
  },
  {
   "cell_type": "markdown",
   "metadata": {},
   "source": [
    "## Preparation des donnees"
   ]
  },
  {
   "cell_type": "markdown",
   "metadata": {},
   "source": [
    "#### On ajoute le pourcentage de victoire du perdant : (attention +/- 15min)"
   ]
  },
  {
   "cell_type": "code",
   "execution_count": 94,
   "metadata": {},
   "outputs": [],
   "source": [
    "indW = df_atp.columns.get_loc(\"Winner\")\n",
    "indL = df_atp.columns.get_loc(\"Loser\")\n",
    "df_atp['L_%'] = pd.Series(range(df_atp.shape[0]))\n",
    "a = crate(df_atp.values, 0, indW, indL)\n",
    "df_atp['L_%'] = a\n",
    "\n",
    "del a"
   ]
  },
  {
   "cell_type": "code",
   "execution_count": 49,
   "metadata": {},
   "outputs": [],
   "source": [
    "# Ancienne version\n",
    "df_atp['L_%'] = pd.Series(range(df_atp.shape[0]))\n",
    "df_atp['L_%'] = df_atp['L_%'].apply(lambda x: rate(df_atp, x,0))"
   ]
  },
  {
   "cell_type": "markdown",
   "metadata": {},
   "source": [
    "#### Meme chose pour df_wta : (attention 15min)"
   ]
  },
  {
   "cell_type": "code",
   "execution_count": 96,
   "metadata": {},
   "outputs": [],
   "source": [
    "# Vainqueur\n",
    "indW = df_wta.columns.get_loc(\"Winner\")\n",
    "indL = df_wta.columns.get_loc(\"Loser\")\n",
    "df_wta['W_%'] = pd.Series(range(df_wta.shape[0]))\n",
    "a = crate(df_wta.values, 1, indW, indL)\n",
    "df_wta['W_%'] = a\n",
    "\n",
    "# Perdant\n",
    "df_wta['L_%'] = pd.Series(range(df_wta.shape[0]))\n",
    "b = crate(df_wta.values, 0, indW, indL)\n",
    "df_wta['L_%'] = b\n",
    "\n",
    "del a,b"
   ]
  },
  {
   "cell_type": "code",
   "execution_count": 358,
   "metadata": {},
   "outputs": [],
   "source": [
    "## Ancienne version\n",
    "# Vainqueur\n",
    "b = np.empty(len(df_wta))\n",
    "for i in range(df_wta.shape[0]):\n",
    "    w = df_wta.loc[i].Winner\n",
    "    try:\n",
    "        b[i] = df_wta[(df_wta.index < i) & (df_wta.Winner == w)].shape[0] / (df_wta[(df_wta.index < i) & (df_wta.Winner == w)].shape[0] + df_wta[(df_wta.index < i) & (df_wta.Loser == w)].shape[0])\n",
    "    except ZeroDivisionError:\n",
    "        b[i] = np.nan\n",
    "\n",
    "df_wta['W_%'] = b \n",
    "\n",
    "# Perdant\n",
    "b = np.empty(len(df_wta))\n",
    "for i in range(df_wta.shape[0]):\n",
    "    w = df_wta.loc[i].Loser\n",
    "    try:\n",
    "        b[i] = df_wta[(df_wta.index < i) & (df_wta.Winner == w)].shape[0] / (df_wta[(df_wta.index < i) & (df_wta.Winner == w)].shape[0] + df_wta[(df_wta.index < i) & (df_wta.Loser == w)].shape[0])\n",
    "    except ZeroDivisionError:\n",
    "        b[i] = np.nan\n",
    "        \n",
    "df_wta['L_%'] = b\n",
    "del b"
   ]
  },
  {
   "cell_type": "markdown",
   "metadata": {},
   "source": [
    "#### On supprime les lignes avec des match non 'completed' :"
   ]
  },
  {
   "cell_type": "code",
   "execution_count": 109,
   "metadata": {},
   "outputs": [],
   "source": [
    "df_atp = df_atp.drop(df_atp[df_atp.Comment != 'Completed'].index)"
   ]
  },
  {
   "cell_type": "code",
   "execution_count": 110,
   "metadata": {},
   "outputs": [],
   "source": [
    "df_wta = df_wta.drop(df_wta[df_wta.Comment != 'Completed'].index)"
   ]
  },
  {
   "cell_type": "markdown",
   "metadata": {},
   "source": [
    "#### On cree une variable qui est la moyenne des cotes :"
   ]
  },
  {
   "cell_type": "code",
   "execution_count": 111,
   "metadata": {},
   "outputs": [],
   "source": [
    "df_atp['WOdds'] = df_atp.loc[:,['B&WW','B365W','CBW','EXW','GBW','IWW','LBW','PSW','SBW','SJW','UBW']].mean(axis=1)\n",
    "df_atp['LOdds'] = df_atp.loc[:,['B&WL','B365L','CBL','EXL','GBL','IWL','LBL','PSL','SBL','SJL','UBL']].mean(axis=1)"
   ]
  },
  {
   "cell_type": "code",
   "execution_count": 112,
   "metadata": {},
   "outputs": [],
   "source": [
    "df_wta['WOdds'] = df_wta.loc[:,['B365W','CBW','EXW','LBW','PSW','SJW','UBW']].mean(axis=1)\n",
    "df_wta['LOdds'] = df_wta.loc[:,['B365L','CBL','EXL','LBL','PSL','SJL','UBL']].mean(axis=1)"
   ]
  },
  {
   "cell_type": "markdown",
   "metadata": {},
   "source": [
    "#### On binarise les donnees categorielles :"
   ]
  },
  {
   "cell_type": "code",
   "execution_count": 113,
   "metadata": {},
   "outputs": [],
   "source": [
    "df_atp = pd.concat([df_atp,pd.get_dummies(df_atp.Court)],sort=True,axis=1)\n",
    "df_atp = pd.concat([df_atp,pd.get_dummies(df_atp.Location)],sort=True,axis=1)\n",
    "df_atp = pd.concat([df_atp,pd.get_dummies(df_atp.Round)],sort=True,axis=1)\n",
    "df_atp = pd.concat([df_atp,pd.get_dummies(df_atp.Series)],sort=True,axis=1)\n",
    "df_atp = pd.concat([df_atp,pd.get_dummies(df_atp.Surface)],sort=True,axis=1)\n",
    "df_atp = pd.concat([df_atp,pd.get_dummies(df_atp.Tournament)],sort=True,axis=1)"
   ]
  },
  {
   "cell_type": "code",
   "execution_count": 114,
   "metadata": {},
   "outputs": [],
   "source": [
    "df_wta = pd.concat([df_wta,pd.get_dummies(df_wta.Court)],sort=True,axis=1)\n",
    "df_wta = pd.concat([df_wta,pd.get_dummies(df_wta.Location)],sort=True,axis=1)\n",
    "df_wta = pd.concat([df_wta,pd.get_dummies(df_wta.Round)],sort=True,axis=1)\n",
    "df_wta = pd.concat([df_wta,pd.get_dummies(df_wta.Surface)],sort=True,axis=1)\n",
    "df_wta = pd.concat([df_wta,pd.get_dummies(df_wta.Tier)],sort=True,axis=1)\n",
    "df_wta = pd.concat([df_wta,pd.get_dummies(df_wta.Tournament)],sort=True,axis=1)"
   ]
  },
  {
   "cell_type": "markdown",
   "metadata": {},
   "source": [
    "#### On cree les colonnes Joueurs 1 et 2 :"
   ]
  },
  {
   "cell_type": "code",
   "execution_count": 115,
   "metadata": {},
   "outputs": [],
   "source": [
    "b = np.random.randint(1,3,len(df_atp))\n",
    "df_atp['Select'] = b\n",
    "df_atp['J1'] = np.where(df_atp.Select == 1, df_atp.Winner, df_atp.Loser)\n",
    "df_atp['J2'] = np.where(df_atp.Select == 2, df_atp.Winner, df_atp.Loser)"
   ]
  },
  {
   "cell_type": "code",
   "execution_count": 116,
   "metadata": {},
   "outputs": [],
   "source": [
    "b = np.random.randint(1,3,len(df_wta))\n",
    "df_wta['Select'] = b\n",
    "df_wta['J1'] = np.where(df_wta.Select == 1, df_wta.Winner, df_wta.Loser)\n",
    "df_wta['J2'] = np.where(df_wta.Select == 2, df_wta.Winner, df_wta.Loser)"
   ]
  },
  {
   "cell_type": "markdown",
   "metadata": {},
   "source": [
    "#### On remplace ensuite ce qui donnait une information sur le vainqueur par des variables J1 et J2, et on remplace les valeurs manquantes :"
   ]
  },
  {
   "cell_type": "code",
   "execution_count": 117,
   "metadata": {},
   "outputs": [],
   "source": [
    "df_atp['Rank_J1'] = np.where(df_atp.Select == 1, df_atp.WRank, df_atp.LRank)\n",
    "df_atp['Rank_J1'] = df_atp['Rank_J1'].replace('NR',np.nan)\n",
    "df_atp['Rank_J2'] = np.where(df_atp.Select == 2, df_atp.WRank, df_atp.LRank)\n",
    "df_atp['Rank_J2'] = df_atp['Rank_J2'].replace('NR',np.nan)\n",
    "df_atp['Rank_J1']=df_atp['Rank_J1'].fillna(df_atp['Rank_J2'].max())\n",
    "df_atp['Rank_J2']=df_atp['Rank_J2'].fillna(df_atp['Rank_J2'].max())\n",
    "df_atp['Pts_J1'] = np.where(df_atp.Select == 1, df_atp.WPts, df_atp.LPts)\n",
    "df_atp['Pts_J1'] = df_atp['Pts_J1'].fillna(0)\n",
    "df_atp['Pts_J2'] = np.where(df_atp.Select == 2, df_atp.WPts, df_atp.LPts)\n",
    "df_atp['Pts_J2'] = df_atp['Pts_J2'].fillna(0)\n",
    "df_atp['Odds_J1'] = np.where(df_atp.Select == 1, df_atp.WOdds, df_atp.LOdds)\n",
    "df_atp['Odds_J1'] = df_atp['Odds_J1'].fillna(1)\n",
    "df_atp['Odds_J2'] = np.where(df_atp.Select == 2, df_atp.WOdds, df_atp.LOdds)\n",
    "df_atp['Odds_J2'] = df_atp['Odds_J2'].fillna(1)\n",
    "df_atp['Victory%_J1'] = np.where(df_atp.Select == 1, df_atp['W_%'], df_atp['L_%'])\n",
    "df_atp['Victory%_J1'] = df_atp['Victory%_J1'].fillna(0)\n",
    "df_atp['Victory%_J2'] = np.where(df_atp.Select == 2, df_atp['W_%'], df_atp['L_%'])\n",
    "df_atp['Victory%_J2'] = df_atp['Victory%_J2'].fillna(0)"
   ]
  },
  {
   "cell_type": "code",
   "execution_count": 118,
   "metadata": {},
   "outputs": [],
   "source": [
    "df_wta['Rank_J1'] = np.where(df_wta.Select == 1, df_wta.WRank, df_wta.LRank)\n",
    "df_wta['Rank_J1'] = df_wta['Rank_J1'].replace('NR',np.nan)\n",
    "df_wta['Rank_J2'] = np.where(df_wta.Select == 2, df_wta.WRank, df_wta.LRank)\n",
    "df_wta['Rank_J2'] = df_wta['Rank_J2'].replace('NR',np.nan)\n",
    "df_wta['Rank_J1'] = df_wta['Rank_J1'].fillna(df_wta['Rank_J1'].max())\n",
    "df_wta['Rank_J2'] = df_wta['Rank_J2'].fillna(df_wta['Rank_J1'].max())\n",
    "df_wta['Pts_J1'] = np.where(df_wta.Select == 1, df_wta.WPts, df_wta.LPts)\n",
    "df_wta['Pts_J1'] = df_wta['Pts_J1'].fillna(0)\n",
    "df_wta['Pts_J2'] = np.where(df_wta.Select == 2, df_wta.WPts, df_wta.LPts)\n",
    "df_wta['Pts_J2'] = df_wta['Pts_J2'].fillna(0)\n",
    "df_wta['Odds_J1'] = np.where(df_wta.Select == 1, df_wta.WOdds, df_wta.LOdds)\n",
    "df_wta['Odds_J1'] = df_wta['Odds_J1'].fillna(1)\n",
    "df_wta['Odds_J2'] = np.where(df_wta.Select == 2, df_wta.WOdds, df_wta.LOdds)\n",
    "df_wta['Odds_J2'] = df_wta['Odds_J2'].fillna(1)\n",
    "df_wta['Victory%_J1'] = np.where(df_wta.Select == 1, df_wta['W_%'], df_wta['L_%'])\n",
    "df_wta['Victory%_J1'] = df_wta['Victory%_J1'].fillna(0)\n",
    "df_wta['Victory%_J2'] = np.where(df_wta.Select == 2, df_wta['W_%'], df_wta['L_%'])\n",
    "df_wta['Victory%_J2'] = df_wta['Victory%_J2'].fillna(0)"
   ]
  },
  {
   "cell_type": "markdown",
   "metadata": {},
   "source": [
    "#### Enfin on transforme la variable victoire en Y=0 si joueur 1 gagne et Y=1 sinon :"
   ]
  },
  {
   "cell_type": "code",
   "execution_count": 119,
   "metadata": {},
   "outputs": [],
   "source": [
    "df_atp['Y'] = np.where(df_atp.J1 == df_atp.Winner, 0, 1)"
   ]
  },
  {
   "cell_type": "code",
   "execution_count": 120,
   "metadata": {},
   "outputs": [],
   "source": [
    "df_wta['Y'] = np.where(df_wta.J1 == df_wta.Winner, 0, 1)"
   ]
  },
  {
   "cell_type": "markdown",
   "metadata": {},
   "source": [
    "#### On supprime les colonnes qui contiennent l'info sur le vainqueur ou n'etant plus utiles :"
   ]
  },
  {
   "cell_type": "code",
   "execution_count": 121,
   "metadata": {},
   "outputs": [],
   "source": [
    "to_del = ['AvgL', 'AvgW', 'B&WL', 'B&WW', 'B365L', 'B365W','CBL', 'CBW','Comment','Court','EXL', 'EXW', 'GBL', 'GBW','IWL', 'IWW', 'L1', 'L2', 'L3', 'L4', 'L5', 'LBL', 'LBW','Location','LPts','LRank', 'Loser', 'Lsets', 'MaxL', 'MaxW', 'PSL', 'PSW','Round','SBL', 'SBW','Series','SJL', 'SJW','Surface','Tournament','UBL', 'UBW', 'W1', 'W2', 'W3', 'W4', 'W5', 'WPts', 'WRank', 'Winner','Wsets','W_%', 'L_%', 'WOdds', 'LOdds', 'Select']\n",
    "df_atp2 = df_atp.drop(columns=to_del)"
   ]
  },
  {
   "cell_type": "code",
   "execution_count": 122,
   "metadata": {},
   "outputs": [],
   "source": [
    "to_del = ['AvgL', 'AvgW', 'B365L', 'B365W','CBL', 'CBW','Comment','Court','EXL', 'EXW', 'L1', 'L2', 'L3', 'L4', 'L5', 'LBL', 'LBW','Location','LPts','LRank', 'Loser', 'Lsets', 'MaxL', 'MaxW', 'PSL', 'PSW','Round','SJL', 'SJW','Surface','Tier','Tournament','UBL', 'UBW', 'W1', 'W2', 'W3', 'W4', 'W5', 'WPts', 'WRank', 'Winner','Wsets','W_%', 'L_%','WOdds', 'LOdds', 'Select']\n",
    "df_wta2 = df_wta.drop(columns=to_del)"
   ]
  },
  {
   "cell_type": "markdown",
   "metadata": {},
   "source": [
    "#### On separe en train/test :"
   ]
  },
  {
   "cell_type": "code",
   "execution_count": 123,
   "metadata": {},
   "outputs": [],
   "source": [
    "df_atp_train = df_atp2[df_atp2.Date.between('2000','2016-12-31')]\n",
    "df_atp_test = df_atp2[df_atp2.Date.between('2017','2017-12-31')]"
   ]
  },
  {
   "cell_type": "code",
   "execution_count": 124,
   "metadata": {},
   "outputs": [],
   "source": [
    "df_wta_train = df_wta2[df_wta2.Date.between('2007','2016-12-31')]\n",
    "df_wta_test = df_wta2[df_wta2.Date.between('2017','2017-12-31')]"
   ]
  },
  {
   "cell_type": "markdown",
   "metadata": {},
   "source": [
    "## Modelisation et prediction pour les hommes"
   ]
  },
  {
   "cell_type": "markdown",
   "metadata": {},
   "source": [
    "### Regression logistique"
   ]
  },
  {
   "cell_type": "code",
   "execution_count": 125,
   "metadata": {},
   "outputs": [
    {
     "data": {
      "text/plain": [
       "LogisticRegression(C=1.0, class_weight=None, dual=False, fit_intercept=True,\n",
       "          intercept_scaling=1, max_iter=100, multi_class='ovr', n_jobs=1,\n",
       "          penalty='l2', random_state=None, solver='liblinear', tol=0.0001,\n",
       "          verbose=0, warm_start=False)"
      ]
     },
     "execution_count": 125,
     "metadata": {},
     "output_type": "execute_result"
    }
   ],
   "source": [
    "from sklearn.model_selection import train_test_split\n",
    "from sklearn import metrics\n",
    "from sklearn.linear_model import LogisticRegression\n",
    "\n",
    "X_Train = df_atp_train.drop(columns=['Y','J1','J2','Date'])\n",
    "X_Test = df_atp_test.drop(columns=['Y','J1','J2','Date'])\n",
    "\n",
    "model = LogisticRegression()\n",
    "model.fit(X_Train,df_atp_train['Y'])"
   ]
  },
  {
   "cell_type": "markdown",
   "metadata": {},
   "source": [
    "#### Sur le train, matrice de confusion et taux de prediction :"
   ]
  },
  {
   "cell_type": "code",
   "execution_count": 126,
   "metadata": {},
   "outputs": [
    {
     "name": "stdout",
     "output_type": "stream",
     "text": [
      "[[15847  6692]\n",
      " [ 6878 15856]]\n",
      "0.7002628498221898\n"
     ]
    }
   ],
   "source": [
    "predTrain = model.predict(X_Train)\n",
    "\n",
    "mcTrain = metrics.confusion_matrix(df_atp_train['Y'],predTrain)\n",
    "print(mcTrain)\n",
    "\n",
    "print(metrics.accuracy_score(df_atp_train['Y'],predTrain))"
   ]
  },
  {
   "cell_type": "markdown",
   "metadata": {},
   "source": [
    "#### Sur le test, matrice de confusion et taux de prediction :"
   ]
  },
  {
   "cell_type": "code",
   "execution_count": 127,
   "metadata": {},
   "outputs": [
    {
     "name": "stdout",
     "output_type": "stream",
     "text": [
      "[[877 425]\n",
      " [389 841]]\n",
      "0.6785150078988942\n"
     ]
    }
   ],
   "source": [
    "predTest = model.predict(X_Test)\n",
    "\n",
    "mcTest = metrics.confusion_matrix(df_atp_test['Y'],predTest)\n",
    "print(mcTest)\n",
    "\n",
    "print(metrics.accuracy_score(df_atp_test['Y'],predTest))"
   ]
  },
  {
   "cell_type": "markdown",
   "metadata": {},
   "source": [
    "#### A titre de comparaison, on calcule les taux de prediction en se fiant uniquement au classement du joueur et a son taux de victoire :"
   ]
  },
  {
   "cell_type": "code",
   "execution_count": 128,
   "metadata": {},
   "outputs": [
    {
     "name": "stdout",
     "output_type": "stream",
     "text": [
      "Classement :  0.6548183254344392\n",
      "Victoire :  0.6429699842022117\n"
     ]
    }
   ],
   "source": [
    "c = np.where(df_atp_test['Rank_J1'] < df_atp_test['Rank_J2'], 0, 1)\n",
    "print('Classement : ',metrics.accuracy_score(df_atp_test['Y'],c))\n",
    "\n",
    "v = np.where(df_atp_test['Victory%_J1'] > df_atp_test['Victory%_J2'], 0, 1)\n",
    "print('Victoire : ',metrics.accuracy_score(df_atp_test['Y'],v))"
   ]
  },
  {
   "cell_type": "markdown",
   "metadata": {},
   "source": [
    "### Random Forest"
   ]
  },
  {
   "cell_type": "code",
   "execution_count": 129,
   "metadata": {},
   "outputs": [
    {
     "data": {
      "text/plain": [
       "RandomForestClassifier(bootstrap=True, class_weight=None, criterion='gini',\n",
       "            max_depth=200, max_features='auto', max_leaf_nodes=None,\n",
       "            min_impurity_decrease=0.0, min_impurity_split=None,\n",
       "            min_samples_leaf=1, min_samples_split=2,\n",
       "            min_weight_fraction_leaf=0.0, n_estimators=30, n_jobs=1,\n",
       "            oob_score=False, random_state=None, verbose=0,\n",
       "            warm_start=False)"
      ]
     },
     "execution_count": 129,
     "metadata": {},
     "output_type": "execute_result"
    }
   ],
   "source": [
    "from sklearn.ensemble import RandomForestClassifier\n",
    "from sklearn.model_selection import GridSearchCV\n",
    "\n",
    "clf_rf = RandomForestClassifier(n_estimators=30,max_depth = 200)\n",
    "clf_rf.fit(X_Train, df_atp_train['Y'])"
   ]
  },
  {
   "cell_type": "markdown",
   "metadata": {},
   "source": [
    "#### Sur le train, matrice de confusion et taux de prediction :"
   ]
  },
  {
   "cell_type": "code",
   "execution_count": 130,
   "metadata": {},
   "outputs": [
    {
     "name": "stdout",
     "output_type": "stream",
     "text": [
      "0.9990281183045082\n",
      "[[22528    11]\n",
      " [   33 22701]]\n"
     ]
    }
   ],
   "source": [
    "predTrain = clf_rf.predict(X_Train)\n",
    "print(metrics.accuracy_score(df_atp_train['Y'], predTrain))\n",
    "mcTest_rf = metrics.confusion_matrix(df_atp_train['Y'], predTrain)\n",
    "print(mcTest_rf)"
   ]
  },
  {
   "cell_type": "markdown",
   "metadata": {},
   "source": [
    "#### Sur le test, matrice de confusion et taux de prediction :"
   ]
  },
  {
   "cell_type": "code",
   "execution_count": 132,
   "metadata": {},
   "outputs": [
    {
     "name": "stdout",
     "output_type": "stream",
     "text": [
      "0.6678515007898894\n",
      "[[892 410]\n",
      " [431 799]]\n"
     ]
    }
   ],
   "source": [
    "predTest = clf_rf.predict(X_Test)\n",
    "print(metrics.accuracy_score(df_atp_test['Y'], predTest))\n",
    "mcTest_rf = metrics.confusion_matrix(df_atp_test['Y'], predTest)\n",
    "print(mcTest_rf)"
   ]
  },
  {
   "cell_type": "markdown",
   "metadata": {},
   "source": [
    "### Courbe ROC"
   ]
  },
  {
   "cell_type": "code",
   "execution_count": 133,
   "metadata": {},
   "outputs": [
    {
     "data": {
      "image/png": "[encoded data removed]",
      "text/plain": [
       "<Figure size 432x288 with 1 Axes>"
      ]
     },
     "metadata": {},
     "output_type": "display_data"
    }
   ],
   "source": [
    "%matplotlib inline\n",
    "import matplotlib.pyplot as plt\n",
    "\n",
    "scores_logistic = model.predict_proba(X_Test)\n",
    "fpr_logistic, tpr_logistic, thresholds_logistic = metrics.roc_curve(df_atp_test['Y'],scores_logistic[:,1],pos_label=1)\n",
    "roc_auc_logistic=metrics.auc(fpr_logistic,tpr_logistic)\n",
    "\n",
    "scores_rf = clf_rf.predict_proba(X_Test)\n",
    "fpr_rf, tpr_rf, thresholds_rf = metrics.roc_curve(df_atp_test['Y'],scores_rf[:,1],pos_label=1)\n",
    "roc_auc_rf=metrics.auc(fpr_rf,tpr_rf)\n",
    "\n",
    "plt.figure()\n",
    "lw=2\n",
    "plt.plot(fpr_logistic,tpr_logistic,color='darkorange',lw=lw,label='Regression logistique (aire sous la courbe= %0.2f)'%roc_auc_logistic)\n",
    "plt.plot(fpr_rf,tpr_rf,color='green',lw=lw,label='Random forest (aire sous la courbe= %0.2f)'%roc_auc_rf)\n",
    "\n",
    "plt.plot([0,1],[0,1],color='navy',lw=lw,linestyle='--')\n",
    "plt.xlim([0,1])\n",
    "plt.ylim([0,1])\n",
    "plt.xlabel('Taux de faux positif')\n",
    "plt.ylabel('Taux de vrais négatifs')\n",
    "plt.legend(loc=\"lower right\")\n",
    "plt.show()"
   ]
  },
  {
   "cell_type": "markdown",
   "metadata": {},
   "source": [
    "## Modelisation et prediction pour les femmes"
   ]
  },
  {
   "cell_type": "markdown",
   "metadata": {},
   "source": [
    "### Regression logistique"
   ]
  },
  {
   "cell_type": "code",
   "execution_count": 134,
   "metadata": {},
   "outputs": [
    {
     "data": {
      "text/plain": [
       "LogisticRegression(C=1.0, class_weight=None, dual=False, fit_intercept=True,\n",
       "          intercept_scaling=1, max_iter=100, multi_class='ovr', n_jobs=1,\n",
       "          penalty='l2', random_state=None, solver='liblinear', tol=0.0001,\n",
       "          verbose=0, warm_start=False)"
      ]
     },
     "execution_count": 134,
     "metadata": {},
     "output_type": "execute_result"
    }
   ],
   "source": [
    "from sklearn.model_selection import train_test_split\n",
    "from sklearn import metrics\n",
    "from sklearn.linear_model import LogisticRegression\n",
    "\n",
    "X_Train = df_wta_train.drop(columns=['Y','J1','J2','Date'])\n",
    "X_Test = df_wta_test.drop(columns=['Y','J1','J2','Date'])\n",
    "\n",
    "model = LogisticRegression()\n",
    "model.fit(X_Train,df_wta_train['Y'])"
   ]
  },
  {
   "cell_type": "markdown",
   "metadata": {},
   "source": [
    "#### Sur le train, matrice de confusion et taux de prediction :"
   ]
  },
  {
   "cell_type": "code",
   "execution_count": 135,
   "metadata": {},
   "outputs": [
    {
     "name": "stdout",
     "output_type": "stream",
     "text": [
      "[[8387 3414]\n",
      " [3677 8233]]\n",
      "0.7009404917548817\n"
     ]
    }
   ],
   "source": [
    "predTrain = model.predict(X_Train)\n",
    "\n",
    "mcTrain = metrics.confusion_matrix(df_wta_train['Y'],predTrain)\n",
    "print(mcTrain)\n",
    "\n",
    "print(metrics.accuracy_score(df_wta_train['Y'],predTrain))"
   ]
  },
  {
   "cell_type": "markdown",
   "metadata": {},
   "source": [
    "#### Sur le test, matrice de confusion et taux de prediction :"
   ]
  },
  {
   "cell_type": "code",
   "execution_count": 136,
   "metadata": {},
   "outputs": [
    {
     "name": "stdout",
     "output_type": "stream",
     "text": [
      "[[790 376]\n",
      " [434 817]]\n",
      "0.6648738105088954\n"
     ]
    }
   ],
   "source": [
    "predTest = model.predict(X_Test)\n",
    "\n",
    "mcTest = metrics.confusion_matrix(df_wta_test['Y'],predTest)\n",
    "print(mcTest)\n",
    "\n",
    "print(metrics.accuracy_score(df_wta_test['Y'],predTest))"
   ]
  },
  {
   "cell_type": "markdown",
   "metadata": {},
   "source": [
    "#### A titre de comparaison, on calcule les taux de prediction en se fiant uniquement au classement de la joueuse et a son taux de victoire :"
   ]
  },
  {
   "cell_type": "code",
   "execution_count": 137,
   "metadata": {},
   "outputs": [
    {
     "name": "stdout",
     "output_type": "stream",
     "text": [
      "Classement :  0.6326023996690112\n",
      "Victoire :  0.596607364501448\n"
     ]
    }
   ],
   "source": [
    "c = np.where(df_wta_test['Rank_J1'] < df_wta_test['Rank_J2'], 0, 1)\n",
    "print('Classement : ',metrics.accuracy_score(df_wta_test['Y'],c))\n",
    "\n",
    "v = np.where(df_wta_test['Victory%_J1'] > df_wta_test['Victory%_J2'], 0, 1)\n",
    "print('Victoire : ',metrics.accuracy_score(df_wta_test['Y'],v))"
   ]
  },
  {
   "cell_type": "markdown",
   "metadata": {},
   "source": [
    "### Random Forest"
   ]
  },
  {
   "cell_type": "code",
   "execution_count": 138,
   "metadata": {},
   "outputs": [
    {
     "data": {
      "text/plain": [
       "RandomForestClassifier(bootstrap=True, class_weight=None, criterion='gini',\n",
       "            max_depth=200, max_features='auto', max_leaf_nodes=None,\n",
       "            min_impurity_decrease=0.0, min_impurity_split=None,\n",
       "            min_samples_leaf=1, min_samples_split=2,\n",
       "            min_weight_fraction_leaf=0.0, n_estimators=30, n_jobs=1,\n",
       "            oob_score=False, random_state=None, verbose=0,\n",
       "            warm_start=False)"
      ]
     },
     "execution_count": 138,
     "metadata": {},
     "output_type": "execute_result"
    }
   ],
   "source": [
    "from sklearn.ensemble import RandomForestClassifier\n",
    "from sklearn.model_selection import GridSearchCV\n",
    "\n",
    "clf_rf = RandomForestClassifier(n_estimators=30,max_depth = 200)\n",
    "clf_rf.fit(X_Train, df_wta_train['Y'])"
   ]
  },
  {
   "cell_type": "markdown",
   "metadata": {},
   "source": [
    "#### Sur le train, matrice de confusion et taux de prediction :"
   ]
  },
  {
   "cell_type": "code",
   "execution_count": 139,
   "metadata": {},
   "outputs": [
    {
     "name": "stdout",
     "output_type": "stream",
     "text": [
      "0.9986082409008477\n",
      "[[11789    12]\n",
      " [   21 11889]]\n"
     ]
    }
   ],
   "source": [
    "predTrain = clf_rf.predict(X_Train)\n",
    "print(metrics.accuracy_score(df_wta_train['Y'], predTrain))\n",
    "mcTest_rf = metrics.confusion_matrix(df_wta_train['Y'], predTrain)\n",
    "print(mcTest_rf)"
   ]
  },
  {
   "cell_type": "markdown",
   "metadata": {},
   "source": [
    "#### Sur le test, matrice de confusion et taux de prediction :"
   ]
  },
  {
   "cell_type": "code",
   "execution_count": 140,
   "metadata": {},
   "outputs": [
    {
     "name": "stdout",
     "output_type": "stream",
     "text": [
      "0.654530409598676\n",
      "[[791 375]\n",
      " [460 791]]\n"
     ]
    }
   ],
   "source": [
    "predTest = clf_rf.predict(X_Test)\n",
    "print(metrics.accuracy_score(df_wta_test['Y'], predTest))\n",
    "mcTest_rf = metrics.confusion_matrix(df_wta_test['Y'], predTest)\n",
    "print(mcTest_rf)"
   ]
  },
  {
   "cell_type": "markdown",
   "metadata": {},
   "source": [
    "### Courbe ROC"
   ]
  },
  {
   "cell_type": "code",
   "execution_count": 141,
   "metadata": {},
   "outputs": [
    {
     "data": {
      "image/png": "[encoded data removed]",
      "text/plain": [
       "<Figure size 432x288 with 1 Axes>"
      ]
     },
     "metadata": {},
     "output_type": "display_data"
    }
   ],
   "source": [
    "scores_logistic = model.predict_proba(X_Test)\n",
    "fpr_logistic, tpr_logistic, thresholds_logistic = metrics.roc_curve(df_wta_test['Y'],scores_logistic[:,1],pos_label=1)\n",
    "roc_auc_logistic=metrics.auc(fpr_logistic,tpr_logistic)\n",
    "\n",
    "scores_rf = clf_rf.predict_proba(X_Test)\n",
    "fpr_rf, tpr_rf, thresholds_rf = metrics.roc_curve(df_wta_test['Y'],scores_rf[:,1],pos_label=1)\n",
    "roc_auc_rf=metrics.auc(fpr_rf,tpr_rf)\n",
    "\n",
    "plt.figure()\n",
    "lw=2\n",
    "plt.plot(fpr_logistic,tpr_logistic,color='darkorange',lw=lw,label='Regression logistique (aire sous la courbe= %0.2f)'%roc_auc_logistic)\n",
    "plt.plot(fpr_rf,tpr_rf,color='green',lw=lw,label='Random forest (aire sous la courbe= %0.2f)'%roc_auc_rf)\n",
    "\n",
    "plt.plot([0,1],[0,1],color='navy',lw=lw,linestyle='--')\n",
    "plt.xlim([0,1])\n",
    "plt.ylim([0,1])\n",
    "plt.xlabel('Taux de faux positif')\n",
    "plt.ylabel('Taux de vrais négatifs')\n",
    "plt.legend(loc=\"lower right\")\n",
    "plt.show()"
   ]
  },
  {
   "cell_type": "markdown",
   "metadata": {},
   "source": [
    "## Conclusion"
   ]
  },
  {
   "cell_type": "markdown",
   "metadata": {},
   "source": [
    "On dispose finalement de peu d'information sur chaque joueur néanmoins on obtient des résultats satisfaisants."
   ]
  },
  {
   "cell_type": "markdown",
   "metadata": {},
   "source": [
    "### Difficultes"
   ]
  },
  {
   "cell_type": "markdown",
   "metadata": {},
   "source": [
    "Le calcul du taux de victoire a poser differents problemes, notamment du a la date des match avant 2003 (plusieurs match d'un joueurs le meme jour).\n",
    "Il a fallu modifier les variables pour oter l'information sur le vainqueur, binariser les variables categorielles et gerer les nombreuses donnees manquantes."
   ]
  },
  {
   "cell_type": "markdown",
   "metadata": {},
   "source": [
    "### Axes d'amelioration"
   ]
  },
  {
   "cell_type": "markdown",
   "metadata": {},
   "source": [
    "On pourrait créer d'autres features de la meme manière que le taux de victoire. \n",
    "Exemples : âge du joueur, s'il joue dans son pays, son taux de victoire sur chaque surface ou chaque tournoi.\n",
    "\n",
    "Le calcul du taux de victoire peut encore être optimisé.\n",
    "On pourrait développer la partie statistiques descriptives et également faire une validation croisée en séparant les données en plusieurs parties (pas seulement 2 comme on l'a fait)."
   ]
  }
 ],
 "metadata": {
  "kernelspec": {
   "display_name": "Python 3",
   "language": "python",
   "name": "python3"
  },
  "language_info": {
   "codemirror_mode": {
    "name": "ipython",
    "version": 3
   },
   "file_extension": ".py",
   "mimetype": "text/x-python",
   "name": "python",
   "nbconvert_exporter": "python",
   "pygments_lexer": "ipython3",
   "version": "3.6.5"
  }
 },
 "nbformat": 4,
 "nbformat_minor": 2
}
